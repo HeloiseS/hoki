{
 "cells": [
  {
   "cell_type": "markdown",
   "metadata": {},
   "source": [
    " Transient rates \n",
    "---"
   ]
  },
  {
   "cell_type": "markdown",
   "metadata": {},
   "source": [
    "# Initial imports"
   ]
  },
  {
   "cell_type": "code",
   "execution_count": 1,
   "metadata": {},
   "outputs": [],
   "source": [
    "from hoki import load\n",
    "import pandas as pd\n",
    "import matplotlib.pyplot as plt\n",
    "\n",
    "# Feel free to use your own style sheet\n",
    "plt.style.use('tuto.mplstyle')\n",
    "\n",
    "%matplotlib inline"
   ]
  },
  {
   "cell_type": "markdown",
   "metadata": {},
   "source": [
    "---\n",
    "\n",
    "### In this tutorial you will:\n",
    "\n",
    "- Load BPASS transient rates from hoki\n",
    "- Combine single and binary population transient rates\n",
    "- Calculate total Core Collapse Supernovae rates\n",
    "- Make sure the rates are in the right units\n",
    "- Plot the rates of Type Ia SNe, CCSNe, LGRBs, and PISNe together. \n",
    "\n",
    "\n",
    "---\n",
    "\n",
    "# Loading in the data and initial set-up\n",
    "\n",
    "Transient rates in BPASS are one of the several types of stellar population outputs. We can simply use the `hoki.load.population_ouput()` function to laod the data. The function will automatically know what type of data it is loading from the file name and create an appropriate data frame to put it in. \n",
    "\n",
    "If you are not familiar with `pandas` and `pandas.DataFrame`, you should pick it up easily. If you want to look into them more check out this [Data Camp article](https://www.datacamp.com/community/tutorials/pandas-tutorial-dataframe-python).\n",
    "\n",
    "In this tutorial we want to plot the rates corresponding to the stellar populations that include binary systems for a standard (Salpeter) IMF with slope -1.35 from 0.1 to 0.5 M_sun and a maximum mass of 300 solar masses, all of this at a tenth solar metalicity (so Z=0.002):\n",
    "> `supernova-bin-imf135_300.z002.dat`"
   ]
  },
  {
   "cell_type": "code",
   "execution_count": 2,
   "metadata": {},
   "outputs": [],
   "source": [
    "# Loading the binary and single star population transient rates.\n",
    "# Note we chose this particular IMF and metallicity in order to reproduce the plot\n",
    "# shown on the left hand sife of Figure 1 in Eldridge et al. 2018 \n",
    "\n",
    "bin_rates = load.model_output('supernova-bin-imf135_300.z002.dat')"
   ]
  },
  {
   "cell_type": "markdown",
   "metadata": {},
   "source": [
    "Let's have a look at one of our data frames"
   ]
  },
  {
   "cell_type": "code",
   "execution_count": 3,
   "metadata": {},
   "outputs": [
    {
     "data": {
      "text/html": [
       "<div>\n",
       "<style scoped>\n",
       "    .dataframe tbody tr th:only-of-type {\n",
       "        vertical-align: middle;\n",
       "    }\n",
       "\n",
       "    .dataframe tbody tr th {\n",
       "        vertical-align: top;\n",
       "    }\n",
       "\n",
       "    .dataframe thead th {\n",
       "        text-align: right;\n",
       "    }\n",
       "</style>\n",
       "<table border=\"1\" class=\"dataframe\">\n",
       "  <thead>\n",
       "    <tr style=\"text-align: right;\">\n",
       "      <th></th>\n",
       "      <th>log_age</th>\n",
       "      <th>Ia</th>\n",
       "      <th>IIP</th>\n",
       "      <th>II</th>\n",
       "      <th>Ib</th>\n",
       "      <th>Ic</th>\n",
       "      <th>LGRB</th>\n",
       "      <th>PISNe</th>\n",
       "      <th>low_mass</th>\n",
       "      <th>e_Ia</th>\n",
       "      <th>e_IIP</th>\n",
       "      <th>e_II</th>\n",
       "      <th>e_Ib</th>\n",
       "      <th>e_Ic</th>\n",
       "      <th>e_LGRB</th>\n",
       "      <th>e_PISNe</th>\n",
       "      <th>e_low_mass</th>\n",
       "      <th>age_yrs</th>\n",
       "    </tr>\n",
       "  </thead>\n",
       "  <tbody>\n",
       "    <tr>\n",
       "      <th>0</th>\n",
       "      <td>6.0</td>\n",
       "      <td>0.0</td>\n",
       "      <td>0.0</td>\n",
       "      <td>0.0</td>\n",
       "      <td>0.000000</td>\n",
       "      <td>0.0</td>\n",
       "      <td>0.0</td>\n",
       "      <td>0.000000</td>\n",
       "      <td>0.0</td>\n",
       "      <td>0.0</td>\n",
       "      <td>0.0</td>\n",
       "      <td>0.0</td>\n",
       "      <td>0.000000</td>\n",
       "      <td>0.0</td>\n",
       "      <td>0.0</td>\n",
       "      <td>0.00000</td>\n",
       "      <td>0.0</td>\n",
       "      <td>1122019.00</td>\n",
       "    </tr>\n",
       "    <tr>\n",
       "      <th>1</th>\n",
       "      <td>6.1</td>\n",
       "      <td>0.0</td>\n",
       "      <td>0.0</td>\n",
       "      <td>0.0</td>\n",
       "      <td>0.000000</td>\n",
       "      <td>0.0</td>\n",
       "      <td>0.0</td>\n",
       "      <td>0.000000</td>\n",
       "      <td>0.0</td>\n",
       "      <td>0.0</td>\n",
       "      <td>0.0</td>\n",
       "      <td>0.0</td>\n",
       "      <td>0.000000</td>\n",
       "      <td>0.0</td>\n",
       "      <td>0.0</td>\n",
       "      <td>0.00000</td>\n",
       "      <td>0.0</td>\n",
       "      <td>290520.12</td>\n",
       "    </tr>\n",
       "    <tr>\n",
       "      <th>2</th>\n",
       "      <td>6.2</td>\n",
       "      <td>0.0</td>\n",
       "      <td>0.0</td>\n",
       "      <td>0.0</td>\n",
       "      <td>0.000000</td>\n",
       "      <td>0.0</td>\n",
       "      <td>0.0</td>\n",
       "      <td>0.000000</td>\n",
       "      <td>0.0</td>\n",
       "      <td>0.0</td>\n",
       "      <td>0.0</td>\n",
       "      <td>0.0</td>\n",
       "      <td>0.000000</td>\n",
       "      <td>0.0</td>\n",
       "      <td>0.0</td>\n",
       "      <td>0.00000</td>\n",
       "      <td>0.0</td>\n",
       "      <td>365743.12</td>\n",
       "    </tr>\n",
       "    <tr>\n",
       "      <th>3</th>\n",
       "      <td>6.3</td>\n",
       "      <td>0.0</td>\n",
       "      <td>0.0</td>\n",
       "      <td>0.0</td>\n",
       "      <td>0.000000</td>\n",
       "      <td>0.0</td>\n",
       "      <td>0.0</td>\n",
       "      <td>0.000000</td>\n",
       "      <td>0.0</td>\n",
       "      <td>0.0</td>\n",
       "      <td>0.0</td>\n",
       "      <td>0.0</td>\n",
       "      <td>0.000000</td>\n",
       "      <td>0.0</td>\n",
       "      <td>0.0</td>\n",
       "      <td>0.00000</td>\n",
       "      <td>0.0</td>\n",
       "      <td>460443.62</td>\n",
       "    </tr>\n",
       "    <tr>\n",
       "      <th>4</th>\n",
       "      <td>6.4</td>\n",
       "      <td>0.0</td>\n",
       "      <td>0.0</td>\n",
       "      <td>0.0</td>\n",
       "      <td>3.847896</td>\n",
       "      <td>0.0</td>\n",
       "      <td>0.0</td>\n",
       "      <td>5.109734</td>\n",
       "      <td>0.0</td>\n",
       "      <td>0.0</td>\n",
       "      <td>0.0</td>\n",
       "      <td>0.0</td>\n",
       "      <td>0.496761</td>\n",
       "      <td>0.0</td>\n",
       "      <td>0.0</td>\n",
       "      <td>0.80792</td>\n",
       "      <td>0.0</td>\n",
       "      <td>579664.00</td>\n",
       "    </tr>\n",
       "  </tbody>\n",
       "</table>\n",
       "</div>"
      ],
      "text/plain": [
       "   log_age   Ia  IIP   II        Ib   Ic  LGRB     PISNe  low_mass  e_Ia  \\\n",
       "0      6.0  0.0  0.0  0.0  0.000000  0.0   0.0  0.000000       0.0   0.0   \n",
       "1      6.1  0.0  0.0  0.0  0.000000  0.0   0.0  0.000000       0.0   0.0   \n",
       "2      6.2  0.0  0.0  0.0  0.000000  0.0   0.0  0.000000       0.0   0.0   \n",
       "3      6.3  0.0  0.0  0.0  0.000000  0.0   0.0  0.000000       0.0   0.0   \n",
       "4      6.4  0.0  0.0  0.0  3.847896  0.0   0.0  5.109734       0.0   0.0   \n",
       "\n",
       "   e_IIP  e_II      e_Ib  e_Ic  e_LGRB  e_PISNe  e_low_mass     age_yrs  \n",
       "0    0.0   0.0  0.000000   0.0     0.0  0.00000         0.0  1122019.00  \n",
       "1    0.0   0.0  0.000000   0.0     0.0  0.00000         0.0   290520.12  \n",
       "2    0.0   0.0  0.000000   0.0     0.0  0.00000         0.0   365743.12  \n",
       "3    0.0   0.0  0.000000   0.0     0.0  0.00000         0.0   460443.62  \n",
       "4    0.0   0.0  0.496761   0.0     0.0  0.80792         0.0   579664.00  "
      ]
     },
     "execution_count": 3,
     "metadata": {},
     "output_type": "execute_result"
    }
   ],
   "source": [
    "bin_rates.head()"
   ]
  },
  {
   "cell_type": "markdown",
   "metadata": {},
   "source": [
    "Most column names are pretty self-explanatory, appart from `low_mass`, which just detones the rate of low-mass supernovae (< 2M$_{\\odot}$).  The `age_yrs` bin is th size of each time bin in years; indeed since BPASS works in log(time) space, each time bin has a different width in years. \n",
    "\n",
    "If you need more detail on each of these rates, you should have a look at the [BPASS user manual](https://bpass.auckland.ac.nz/8/files/bpassv2_1_manual_accessible_version.pdf)."
   ]
  },
  {
   "cell_type": "code",
   "execution_count": 4,
   "metadata": {},
   "outputs": [],
   "source": [
    "# The last time bin in BPASS does some weird stuff so it's better to just ignore it. \n",
    "bin_rates = bin_rates[:-1]"
   ]
  },
  {
   "cell_type": "code",
   "execution_count": 5,
   "metadata": {},
   "outputs": [],
   "source": [
    "# We are going to use the log_age and the size of the bin in years a lot, so I'm just renaming them for ease.\n",
    "age = bin_rates.log_age.values\n",
    "bin_size = bin_rates.age_yrs.values"
   ]
  },
  {
   "cell_type": "markdown",
   "metadata": {},
   "source": [
    "### Core Collapse Supernovae rates\n",
    "\n",
    "Core collapse supernovae comprise the type IIP, II, Ib and Ic. To get the total rate we need to sum these columns as well as put the single star and binary populations together.\n"
   ]
  },
  {
   "cell_type": "code",
   "execution_count": 6,
   "metadata": {},
   "outputs": [],
   "source": [
    "ccsne = ( bin_rates[['IIP', 'II', 'Ib', 'Ic']].sum(axis=1))"
   ]
  },
  {
   "cell_type": "markdown",
   "metadata": {},
   "source": [
    "# Getting the Units right\n",
    "\n",
    "We want to plot our rates as **events/M$_{\\odot}$/year**, this means we need to normalise by the total mass and the number of years in each time bin. \n",
    "\n",
    "BPASS calulates stellar populations with 10$^6$ M$_{\\odot}$ and we've already put the bin size in years in a convenient variable called `bin_size`."
   ]
  },
  {
   "cell_type": "code",
   "execution_count": 7,
   "metadata": {},
   "outputs": [],
   "source": [
    "ccsne_norm = ccsne/bin_size/(10**6)\n",
    "typeIa_norm = bin_rates.Ia.values /bin_size/(10**6)\n",
    "lgrbs_norm = bin_rates.LGRB.values /bin_size/(10**6)\n",
    "pisne_norm = bin_rates.PISNe.values/bin_size/(10**6)"
   ]
  },
  {
   "cell_type": "markdown",
   "metadata": {},
   "source": [
    "# Plotting the transient rates\n",
    "\n",
    "Now we have everything we need to plot our transient rates! The only trick here is to remember to **log rate axis** to be able to see everything. "
   ]
  },
  {
   "cell_type": "code",
   "execution_count": 8,
   "metadata": {},
   "outputs": [
    {
     "data": {
      "text/plain": [
       "<matplotlib.legend.Legend at 0x7f08c940f2e8>"
      ]
     },
     "execution_count": 8,
     "metadata": {},
     "output_type": "execute_result"
    },
    {
     "data": {
      "image/png": "[encoded data removed]",
      "text/plain": [
       "<Figure size 720x504 with 1 Axes>"
      ]
     },
     "metadata": {
      "needs_background": "light"
     },
     "output_type": "display_data"
    }
   ],
   "source": [
    "plt.figure(figsize = (10,7))\n",
    "\n",
    "plt.step(age, typeIa_norm, label='SN Ia')\n",
    "plt.step(age, ccsne_norm, label='CCSNe')\n",
    "plt.step(age, lgrbs_norm, label='LGRB')\n",
    "plt.step(age, pisne_norm, label='PISNe')\n",
    "\n",
    "plt.yscale(\"log\")\n",
    "\n",
    "plt.text(9, 10**(-11), r\"Z=0.1Z$_{\\odot}$\", fontsize=18)\n",
    "\n",
    "plt.ylabel(r\"Event Rate (events/M$_{\\odot}$/year)\")\n",
    "plt.xlabel(\"log(age/yrs)\")\n",
    "plt.legend(fontsize=16)"
   ]
  }
 ],
 "metadata": {
  "kernelspec": {
   "display_name": "Python 3",
   "language": "python",
   "name": "python3"
  },
  "language_info": {
   "codemirror_mode": {
    "name": "ipython",
    "version": 3
   },
   "file_extension": ".py",
   "mimetype": "text/x-python",
   "name": "python",
   "nbconvert_exporter": "python",
   "pygments_lexer": "ipython3",
   "version": "3.5.2"
  }
 },
 "nbformat": 4,
 "nbformat_minor": 2
}
